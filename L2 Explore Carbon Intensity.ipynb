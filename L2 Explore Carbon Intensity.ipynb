{
  "cells": [
    {
      "cell_type": "markdown",
      "metadata": {
        "id": "view-in-github",
        "colab_type": "text"
      },
      "source": [
        "<a href=\"https://colab.research.google.com/github/cemgundogan/DLAI_carbon_aware_computing_for_genAI_devs/blob/main/L2%20Explore%20Carbon%20Intensity.ipynb\" target=\"_parent\"><img src=\"https://colab.research.google.com/assets/colab-badge.svg\" alt=\"Open In Colab\"/></a>"
      ]
    },
    {
      "cell_type": "markdown",
      "id": "bf8daf74",
      "metadata": {
        "id": "bf8daf74"
      },
      "source": [
        "# Lesson 2: Explore Carbon Intensity on the Grid"
      ]
    },
    {
      "cell_type": "markdown",
      "id": "fda9feb1",
      "metadata": {
        "id": "fda9feb1"
      },
      "source": [
        "* In this classroom, the libraries have been already installed for you.\n",
        "* If you would like to run this code on your own machine, make sure to get your Electricity Maps API from their [website](https://www.electricitymaps.com/free-tier-api)."
      ]
    },
    {
      "cell_type": "markdown",
      "id": "3c6233fd",
      "metadata": {
        "id": "3c6233fd"
      },
      "source": [
        "#### Load the Electricity Maps API for this notebook"
      ]
    },
    {
      "cell_type": "code",
      "execution_count": null,
      "id": "602dfe5d-37f6-4580-800a-03111ad0d541",
      "metadata": {
        "height": 47,
        "id": "602dfe5d-37f6-4580-800a-03111ad0d541"
      },
      "outputs": [],
      "source": [
        "from helper import load_env\n",
        "load_env()"
      ]
    },
    {
      "cell_type": "markdown",
      "id": "cd20c065",
      "metadata": {
        "id": "cd20c065"
      },
      "source": [
        "### Electricity Map's live carbon intensity  endpoint"
      ]
    },
    {
      "cell_type": "markdown",
      "id": "4370c756",
      "metadata": {
        "id": "4370c756"
      },
      "source": [
        "* Set location coordinates.\n",
        "\n",
        "Remember, you can get the coordinates from [Google Maps](https://www.google.com/maps)."
      ]
    },
    {
      "cell_type": "code",
      "execution_count": null,
      "id": "a9ee6f67-5204-4788-9d1b-ac0a99430f11",
      "metadata": {
        "height": 98,
        "id": "a9ee6f67-5204-4788-9d1b-ac0a99430f11"
      },
      "outputs": [],
      "source": [
        "# Create a dictionary with the coordinates\n",
        "coordinates = {\n",
        "    \"lat\":34.00906474557528,\n",
        "    \"lon\": -118.4984580927553\n",
        "}"
      ]
    },
    {
      "cell_type": "markdown",
      "id": "ddf56ac6",
      "metadata": {
        "id": "ddf56ac6"
      },
      "source": [
        "* Request from the endpoint."
      ]
    },
    {
      "cell_type": "code",
      "execution_count": null,
      "id": "0ce64337-fc26-4e2b-b65f-3c6012152103",
      "metadata": {
        "height": 98,
        "id": "0ce64337-fc26-4e2b-b65f-3c6012152103",
        "outputId": "f5c81387-88af-4a00-fc82-671668851e82"
      },
      "outputs": [
        {
          "name": "stdout",
          "output_type": "stream",
          "text": [
            "Endpoint: https://api.electricitymap.org/v3/carbon-intensity/latest?lat=34.00906474557528&lon=-118.4984580927553\n"
          ]
        }
      ],
      "source": [
        "# Build the url\n",
        "url= f\"https://api.electricitymap.org/v3/carbon-intensity/latest?lat={coordinates['lat']}&lon={coordinates['lon']}\"\n",
        "\n",
        "# Print the endpoint\n",
        "print(\"Endpoint: \" + str(url))"
      ]
    },
    {
      "cell_type": "markdown",
      "id": "7d3c91f9",
      "metadata": {
        "id": "7d3c91f9"
      },
      "source": [
        "* Prepare the get request."
      ]
    },
    {
      "cell_type": "code",
      "execution_count": null,
      "id": "b9f244e1-4422-4cd1-9762-0dbf2e0574d9",
      "metadata": {
        "height": 47,
        "id": "b9f244e1-4422-4cd1-9762-0dbf2e0574d9"
      },
      "outputs": [],
      "source": [
        "import requests\n",
        "import helper"
      ]
    },
    {
      "cell_type": "code",
      "execution_count": null,
      "id": "42416461-5d7d-48eb-a127-91c5cd3dbe6d",
      "metadata": {
        "height": 64,
        "id": "42416461-5d7d-48eb-a127-91c5cd3dbe6d"
      },
      "outputs": [],
      "source": [
        "request = requests.get(\n",
        "    url,\n",
        "    headers={\"auth-token\": helper.load_emaps_api_key()})"
      ]
    },
    {
      "cell_type": "code",
      "execution_count": null,
      "id": "945c64c6",
      "metadata": {
        "height": 64,
        "id": "945c64c6",
        "outputId": "eaaf9c0c-5b92-425e-e4c5-4c63681a6976"
      },
      "outputs": [
        {
          "data": {
            "text/plain": [
              "bytes"
            ]
          },
          "execution_count": 6,
          "metadata": {},
          "output_type": "execute_result"
        }
      ],
      "source": [
        "# This byte format is more compact\n",
        "request.content\n",
        "type(request.content)"
      ]
    },
    {
      "cell_type": "markdown",
      "id": "575d6227",
      "metadata": {
        "id": "575d6227"
      },
      "source": [
        "> Note: This byte format is more compact and often not human-readable. Additionally, it is not possible to access the fields within this byte data as we would access with key-value pairs in a dictionary. This is why we use json.loads()"
      ]
    },
    {
      "cell_type": "code",
      "execution_count": null,
      "id": "800e8a18-a9a1-4bcc-b1d0-37aadea63899",
      "metadata": {
        "height": 30,
        "id": "800e8a18-a9a1-4bcc-b1d0-37aadea63899"
      },
      "outputs": [],
      "source": [
        "import json"
      ]
    },
    {
      "cell_type": "code",
      "execution_count": null,
      "id": "e0ef54b3-931a-40cc-a462-ce2ea8bdf056",
      "metadata": {
        "height": 30,
        "id": "e0ef54b3-931a-40cc-a462-ce2ea8bdf056",
        "outputId": "33ec687f-204e-4bb9-a584-7fddafc7265f"
      },
      "outputs": [
        {
          "data": {
            "text/plain": [
              "{'zone': 'US-CAL-LDWP',\n",
              " 'carbonIntensity': 700,\n",
              " 'datetime': '2024-06-26T17:00:00.000Z',\n",
              " 'updatedAt': '2024-06-26T16:49:48.834Z',\n",
              " 'createdAt': '2024-06-23T17:46:14.865Z',\n",
              " 'emissionFactorType': 'lifecycle',\n",
              " 'isEstimated': True,\n",
              " 'estimationMethod': 'TIME_SLICER_AVERAGE'}"
            ]
          },
          "execution_count": 8,
          "metadata": {},
          "output_type": "execute_result"
        }
      ],
      "source": [
        "json.loads(request.content)"
      ]
    },
    {
      "cell_type": "markdown",
      "id": "5771a717",
      "metadata": {
        "id": "5771a717"
      },
      "source": [
        "* Use the live power breakdown endpoint."
      ]
    },
    {
      "cell_type": "code",
      "execution_count": null,
      "id": "3002e353-003b-48c2-9d47-fb0672eed6bd",
      "metadata": {
        "height": 47,
        "id": "3002e353-003b-48c2-9d47-fb0672eed6bd"
      },
      "outputs": [],
      "source": [
        "# Build the url\n",
        "url = f\"https://api.electricitymap.org/v3/power-breakdown/latest?lat={coordinates['lat']}&lon={coordinates['lon']}\""
      ]
    },
    {
      "cell_type": "code",
      "execution_count": null,
      "id": "21bf397d-59e5-49af-a51a-6d9a9517a87b",
      "metadata": {
        "height": 30,
        "id": "21bf397d-59e5-49af-a51a-6d9a9517a87b",
        "outputId": "e983521a-a429-445d-dd6f-616522a69580"
      },
      "outputs": [
        {
          "name": "stdout",
          "output_type": "stream",
          "text": [
            "https://api.electricitymap.org/v3/power-breakdown/latest?lat=34.00906474557528&lon=-118.4984580927553\n"
          ]
        }
      ],
      "source": [
        "print(url)"
      ]
    },
    {
      "cell_type": "code",
      "execution_count": null,
      "id": "b043cc11-943e-4257-b07f-f3443c33e9d0",
      "metadata": {
        "height": 64,
        "id": "b043cc11-943e-4257-b07f-f3443c33e9d0"
      },
      "outputs": [],
      "source": [
        "request = requests.get(\n",
        "    url,\n",
        "    headers={\"auth-token\": helper.load_emaps_api_key()})"
      ]
    },
    {
      "cell_type": "code",
      "execution_count": null,
      "id": "d59b6fff-a851-45ff-8b3e-9bb7a987bebf",
      "metadata": {
        "height": 81,
        "id": "d59b6fff-a851-45ff-8b3e-9bb7a987bebf",
        "outputId": "157cc419-2dc2-4bdf-924d-eb7d2fffe568"
      },
      "outputs": [
        {
          "data": {
            "text/plain": [
              "{'zone': 'US-CAL-LDWP',\n",
              " 'datetime': '2024-06-26T17:00:00.000Z',\n",
              " 'updatedAt': '2024-06-26T16:49:48.834Z',\n",
              " 'createdAt': '2024-06-23T17:46:14.865Z',\n",
              " 'powerConsumptionBreakdown': {'nuclear': 0,\n",
              "  'geothermal': 0,\n",
              "  'biomass': 0,\n",
              "  'coal': 0,\n",
              "  'wind': 0,\n",
              "  'solar': 0,\n",
              "  'hydro': 0,\n",
              "  'gas': 0,\n",
              "  'oil': 0,\n",
              "  'unknown': 191,\n",
              "  'hydro discharge': 0,\n",
              "  'battery discharge': 0},\n",
              " 'powerProductionBreakdown': {'nuclear': None,\n",
              "  'geothermal': None,\n",
              "  'biomass': None,\n",
              "  'coal': None,\n",
              "  'wind': None,\n",
              "  'solar': None,\n",
              "  'hydro': None,\n",
              "  'gas': None,\n",
              "  'oil': None,\n",
              "  'unknown': 191,\n",
              "  'hydro discharge': None,\n",
              "  'battery discharge': None},\n",
              " 'powerImportBreakdown': {},\n",
              " 'powerExportBreakdown': {},\n",
              " 'fossilFreePercentage': 0,\n",
              " 'renewablePercentage': 0,\n",
              " 'powerConsumptionTotal': 191,\n",
              " 'powerProductionTotal': 191,\n",
              " 'powerImportTotal': None,\n",
              " 'powerExportTotal': None,\n",
              " 'isEstimated': True,\n",
              " 'estimationMethod': 'TIME_SLICER_AVERAGE'}"
            ]
          },
          "execution_count": 12,
          "metadata": {},
          "output_type": "execute_result"
        }
      ],
      "source": [
        "power_breakdown = json.loads(request.content)\n",
        "\n",
        "# Print the content\n",
        "power_breakdown"
      ]
    },
    {
      "cell_type": "markdown",
      "id": "9b79e401",
      "metadata": {
        "id": "9b79e401"
      },
      "source": [
        "* Print some specific values."
      ]
    },
    {
      "cell_type": "code",
      "execution_count": null,
      "id": "2cd3ed06-9b38-4d25-bb7e-264a1f5d2567",
      "metadata": {
        "height": 30,
        "id": "2cd3ed06-9b38-4d25-bb7e-264a1f5d2567",
        "outputId": "01a3fe79-1ec4-4044-fadd-ce8b6cf54499"
      },
      "outputs": [
        {
          "data": {
            "text/plain": [
              "0"
            ]
          },
          "execution_count": 13,
          "metadata": {},
          "output_type": "execute_result"
        }
      ],
      "source": [
        "power_breakdown['renewablePercentage']"
      ]
    },
    {
      "cell_type": "code",
      "execution_count": null,
      "id": "c4af92e5-46fd-4e19-9524-15087d57db0e",
      "metadata": {
        "height": 30,
        "id": "c4af92e5-46fd-4e19-9524-15087d57db0e",
        "outputId": "7402e637-1e01-4ce9-ac1c-72e9eb74d399"
      },
      "outputs": [
        {
          "data": {
            "text/plain": [
              "0"
            ]
          },
          "execution_count": 14,
          "metadata": {},
          "output_type": "execute_result"
        }
      ],
      "source": [
        "power_breakdown['fossilFreePercentage']"
      ]
    },
    {
      "cell_type": "code",
      "execution_count": null,
      "id": "8afc2237-fb73-4820-bc2f-e75c80904c1a",
      "metadata": {
        "height": 47,
        "id": "8afc2237-fb73-4820-bc2f-e75c80904c1a",
        "outputId": "ba5b6253-cf73-4140-9fea-ef57a28f019e"
      },
      "outputs": [
        {
          "data": {
            "text/plain": [
              "{'nuclear': 0,\n",
              " 'geothermal': 0,\n",
              " 'biomass': 0,\n",
              " 'coal': 0,\n",
              " 'wind': 0,\n",
              " 'solar': 0,\n",
              " 'hydro': 0,\n",
              " 'gas': 0,\n",
              " 'oil': 0,\n",
              " 'unknown': 191,\n",
              " 'hydro discharge': 0,\n",
              " 'battery discharge': 0}"
            ]
          },
          "execution_count": 15,
          "metadata": {},
          "output_type": "execute_result"
        }
      ],
      "source": [
        "# Power Consumption Breakdown in MegaWatts\n",
        "power_breakdown['powerConsumptionBreakdown']"
      ]
    },
    {
      "cell_type": "markdown",
      "id": "bfbe54e7",
      "metadata": {
        "id": "bfbe54e7"
      },
      "source": [
        "* Do some math to understand better the values above."
      ]
    },
    {
      "cell_type": "code",
      "execution_count": null,
      "id": "9da7b057-860c-4fcb-a586-3545a4935235",
      "metadata": {
        "height": 30,
        "id": "9da7b057-860c-4fcb-a586-3545a4935235"
      },
      "outputs": [],
      "source": [
        "import numpy as np"
      ]
    },
    {
      "cell_type": "code",
      "execution_count": null,
      "id": "063e7626-ac4b-4e55-9b48-e13ea5833c12",
      "metadata": {
        "height": 30,
        "id": "063e7626-ac4b-4e55-9b48-e13ea5833c12"
      },
      "outputs": [],
      "source": [
        "total_consumption = power_breakdown['powerConsumptionTotal']"
      ]
    },
    {
      "cell_type": "code",
      "execution_count": null,
      "id": "23479db7-45bc-4636-8973-920e8b794106",
      "metadata": {
        "height": 30,
        "id": "23479db7-45bc-4636-8973-920e8b794106",
        "outputId": "6ca6792f-cc14-43d2-d5fd-5ca40fd70e0f"
      },
      "outputs": [
        {
          "data": {
            "text/plain": [
              "191"
            ]
          },
          "execution_count": 18,
          "metadata": {},
          "output_type": "execute_result"
        }
      ],
      "source": [
        "total_consumption"
      ]
    },
    {
      "cell_type": "code",
      "execution_count": null,
      "id": "8e6a3639-0a8f-4a7e-b02d-0cc18737778e",
      "metadata": {
        "height": 98,
        "id": "8e6a3639-0a8f-4a7e-b02d-0cc18737778e",
        "outputId": "3c2eed89-9236-451b-aa8a-d412ab2f361e"
      },
      "outputs": [
        {
          "data": {
            "text/plain": [
              "{'nuclear': 0.0,\n",
              " 'geothermal': 0.0,\n",
              " 'biomass': 0.0,\n",
              " 'coal': 0.0,\n",
              " 'wind': 0.0,\n",
              " 'solar': 0.0,\n",
              " 'hydro': 0.0,\n",
              " 'gas': 0.0,\n",
              " 'oil': 0.0,\n",
              " 'unknown': 100.0,\n",
              " 'hydro discharge': 0.0,\n",
              " 'battery discharge': 0.0}"
            ]
          },
          "execution_count": 19,
          "metadata": {},
          "output_type": "execute_result"
        }
      ],
      "source": [
        "consumption_percent = {\n",
        "    k: np.round((v/total_consumption) * 100)\n",
        "    for k,v\n",
        "    in power_breakdown['powerConsumptionBreakdown'].items()}\n",
        "consumption_percent"
      ]
    },
    {
      "cell_type": "markdown",
      "id": "45d80161",
      "metadata": {
        "id": "45d80161"
      },
      "source": [
        "#### Helper function for the power_stats"
      ]
    },
    {
      "cell_type": "code",
      "execution_count": null,
      "id": "cc958713-b0b1-4052-8102-18ac54c6ccea",
      "metadata": {
        "height": 421,
        "id": "cc958713-b0b1-4052-8102-18ac54c6ccea"
      },
      "outputs": [],
      "source": [
        "import helper, requests, json, numpy as np\n",
        "def power_stats(lat,lon, api_key=helper.load_emaps_api_key()):\n",
        "    coordinates = { \"lat\": lat, \"lon\": lon }\n",
        "\n",
        "    url_intensity = f\"https://api.electricitymap.org/v3/carbon-intensity/latest?lat={coordinates['lat']}&lon={coordinates['lon']}\"\n",
        "    request_intensity = requests.get(url_intensity, headers={\"auth-token\": api_key})\n",
        "    intensity = json.loads(request_intensity.content)\n",
        "\n",
        "    url_breakdown = f\"https://api.electricitymap.org/v3/power-breakdown/latest?lat={coordinates['lat']}&lon={coordinates['lon']}\"\n",
        "    request_breakdown = requests.get(url_breakdown, headers={\"auth-token\": api_key})\n",
        "    breakdown = json.loads(request_breakdown.content)\n",
        "\n",
        "    breakdown_abridged = {\n",
        "        'renewablePercentage': breakdown['renewablePercentage'],\n",
        "        'fossilFreePercentage': breakdown['fossilFreePercentage'],\n",
        "        'powerConsumptionBreakdown': breakdown['powerConsumptionBreakdown'],\n",
        "        'consumption_percent': {\n",
        "            k: np.round((v/breakdown['powerConsumptionTotal']) * 100)\n",
        "            for k, v\n",
        "            in breakdown['powerConsumptionBreakdown'].items()\n",
        "        },\n",
        "    }\n",
        "\n",
        "    return intensity, breakdown_abridged"
      ]
    },
    {
      "cell_type": "code",
      "execution_count": null,
      "id": "bf999bac-2878-4c88-af91-6be919c37115",
      "metadata": {
        "height": 81,
        "id": "bf999bac-2878-4c88-af91-6be919c37115"
      },
      "outputs": [],
      "source": [
        "# Coordinates from a landmark in Taiwan, shown by the instructor in the explanation\n",
        "intensity, breakdown = power_stats(\n",
        "    lat=25.0356575108668,\n",
        "    lon=121.52010809479746)"
      ]
    },
    {
      "cell_type": "code",
      "execution_count": null,
      "id": "ea3d6ea9-1a0d-4226-8afc-9e6652040919",
      "metadata": {
        "height": 30,
        "id": "ea3d6ea9-1a0d-4226-8afc-9e6652040919",
        "outputId": "ae986fd5-230b-4eed-ae72-b3385bfa2d0b"
      },
      "outputs": [
        {
          "data": {
            "text/plain": [
              "{'zone': 'TW',\n",
              " 'carbonIntensity': 582,\n",
              " 'datetime': '2024-06-26T17:00:00.000Z',\n",
              " 'updatedAt': '2024-06-26T16:50:08.753Z',\n",
              " 'createdAt': '2024-06-23T17:46:14.865Z',\n",
              " 'emissionFactorType': 'lifecycle',\n",
              " 'isEstimated': True,\n",
              " 'estimationMethod': 'TIME_SLICER_AVERAGE'}"
            ]
          },
          "execution_count": 22,
          "metadata": {},
          "output_type": "execute_result"
        }
      ],
      "source": [
        "intensity"
      ]
    },
    {
      "cell_type": "code",
      "execution_count": null,
      "id": "e1ce94fa-8103-4b11-9c6e-9da06143fa54",
      "metadata": {
        "height": 30,
        "id": "e1ce94fa-8103-4b11-9c6e-9da06143fa54",
        "outputId": "7ba5bc27-ac8a-4f3e-8d93-21fc52f8c914"
      },
      "outputs": [
        {
          "data": {
            "text/plain": [
              "{'renewablePercentage': 2,\n",
              " 'fossilFreePercentage': 8,\n",
              " 'powerConsumptionBreakdown': {'nuclear': 1799,\n",
              "  'geothermal': 2,\n",
              "  'biomass': 24,\n",
              "  'coal': 11270,\n",
              "  'wind': 65,\n",
              "  'solar': 0,\n",
              "  'hydro': 533,\n",
              "  'gas': 16308,\n",
              "  'oil': 377,\n",
              "  'unknown': 1267,\n",
              "  'hydro discharge': 0,\n",
              "  'battery discharge': 0},\n",
              " 'consumption_percent': {'nuclear': 6.0,\n",
              "  'geothermal': 0.0,\n",
              "  'biomass': 0.0,\n",
              "  'coal': 36.0,\n",
              "  'wind': 0.0,\n",
              "  'solar': 0.0,\n",
              "  'hydro': 2.0,\n",
              "  'gas': 52.0,\n",
              "  'oil': 1.0,\n",
              "  'unknown': 4.0,\n",
              "  'hydro discharge': 0.0,\n",
              "  'battery discharge': 0.0}}"
            ]
          },
          "execution_count": 23,
          "metadata": {},
          "output_type": "execute_result"
        }
      ],
      "source": [
        "breakdown"
      ]
    },
    {
      "cell_type": "markdown",
      "id": "4858a219",
      "metadata": {
        "id": "4858a219"
      },
      "source": [
        "### Do it yourself!\n",
        "* Get coordinates from a location you want to retrieve the information we got before!"
      ]
    },
    {
      "cell_type": "code",
      "execution_count": null,
      "id": "491ac7d9",
      "metadata": {
        "height": 251,
        "id": "491ac7d9",
        "outputId": "657ec0ef-4535-43c5-ada9-7904ba337a5c"
      },
      "outputs": [
        {
          "name": "stdout",
          "output_type": "stream",
          "text": [
            "Endpoint: https://api.electricitymap.org/v3/carbon-intensity/latest?lat=51.518858389435096&lon=-0.08145885941370525\n"
          ]
        }
      ],
      "source": [
        "from helper import load_env\n",
        "load_env()\n",
        "\n",
        "# Create a dictionary with the coordinates\n",
        "coordinates = {\n",
        "    \"lat\":51.5188583894350968,\n",
        "    \"lon\": -0.08145885941370525\n",
        "}\n",
        "\n",
        "# Build the url\n",
        "url= f\"https://api.electricitymap.org/v3/carbon-intensity/latest?lat={coordinates['lat']}&lon={coordinates['lon']}\"\n",
        "\n",
        "# Print the endpoint\n",
        "print(\"Endpoint: \" + str(url))"
      ]
    },
    {
      "cell_type": "code",
      "execution_count": null,
      "id": "7da58208",
      "metadata": {
        "height": 336,
        "id": "7da58208",
        "outputId": "fc7d4f5f-93ec-4983-9632-56e26a2f6b39"
      },
      "outputs": [
        {
          "name": "stdout",
          "output_type": "stream",
          "text": [
            "https://api.electricitymap.org/v3/power-breakdown/latest?lat=51.518858389435096&lon=-0.08145885941370525\n"
          ]
        }
      ],
      "source": [
        "import requests\n",
        "import helper\n",
        "\n",
        "request = requests.get(\n",
        "    url,\n",
        "    headers={\"auth-token\": helper.load_emaps_api_key()})\n",
        "\n",
        "# This byte format is more compact\n",
        "request.content\n",
        "type(request.content)\n",
        "\n",
        "import json\n",
        "\n",
        "json.loads(request.content)\n",
        "\n",
        "# Build the url\n",
        "url = f\"https://api.electricitymap.org/v3/power-breakdown/latest?lat={coordinates['lat']}&lon={coordinates['lon']}\"\n",
        "\n",
        "print(url)"
      ]
    },
    {
      "cell_type": "code",
      "execution_count": null,
      "id": "44643c76",
      "metadata": {
        "height": 404,
        "id": "44643c76",
        "outputId": "8bfea102-bf75-44d1-87da-12fbce8bd1d6"
      },
      "outputs": [
        {
          "data": {
            "text/plain": [
              "{'nuclear': 27.0,\n",
              " 'geothermal': 0.0,\n",
              " 'biomass': 6.0,\n",
              " 'coal': 0.0,\n",
              " 'wind': 7.0,\n",
              " 'solar': 10.0,\n",
              " 'hydro': 4.0,\n",
              " 'gas': 41.0,\n",
              " 'oil': 0.0,\n",
              " 'unknown': 3.0,\n",
              " 'hydro discharge': 2.0,\n",
              " 'battery discharge': 0.0}"
            ]
          },
          "execution_count": 34,
          "metadata": {},
          "output_type": "execute_result"
        }
      ],
      "source": [
        "request = requests.get(\n",
        "    url,\n",
        "    headers={\"auth-token\": helper.load_emaps_api_key()})\n",
        "\n",
        "power_breakdown = json.loads(request.content)\n",
        "\n",
        "# Print the content\n",
        "power_breakdown\n",
        "power_breakdown['renewablePercentage']\n",
        "power_breakdown['fossilFreePercentage']\n",
        "\n",
        "# Power Consumption Breakdown in MegaWatts\n",
        "power_breakdown['powerConsumptionBreakdown']\n",
        "\n",
        "import numpy as np\n",
        "\n",
        "total_consumption = power_breakdown['powerConsumptionTotal']\n",
        "total_consumption\n",
        "consumption_percent = {\n",
        "    k: np.round((v/total_consumption) * 100)\n",
        "    for k,v\n",
        "    in power_breakdown['powerConsumptionBreakdown'].items()}\n",
        "consumption_percent"
      ]
    },
    {
      "cell_type": "code",
      "execution_count": null,
      "id": "4e75a6ce",
      "metadata": {
        "height": 437,
        "id": "4e75a6ce"
      },
      "outputs": [],
      "source": [
        "import helper, requests, json, numpy as np\n",
        "def power_stats(lat,lon, api_key=helper.load_emaps_api_key()):\n",
        "    coordinates = { \"lat\": lat, \"lon\": lon }\n",
        "\n",
        "    url_intensity = f\"https://api.electricitymap.org/v3/carbon-intensity/latest?lat={coordinates['lat']}&lon={coordinates['lon']}\"\n",
        "    request_intensity = requests.get(url_intensity, headers={\"auth-token\": api_key})\n",
        "    intensity = json.loads(request_intensity.content)\n",
        "\n",
        "    url_breakdown = f\"https://api.electricitymap.org/v3/power-breakdown/latest?lat={coordinates['lat']}&lon={coordinates['lon']}\"\n",
        "    request_breakdown = requests.get(url_breakdown, headers={\"auth-token\": api_key})\n",
        "    breakdown = json.loads(request_breakdown.content)\n",
        "\n",
        "    breakdown_abridged = {\n",
        "        'renewablePercentage': breakdown['renewablePercentage'],\n",
        "        'fossilFreePercentage': breakdown['fossilFreePercentage'],\n",
        "        'powerConsumptionBreakdown': breakdown['powerConsumptionBreakdown'],\n",
        "        'consumption_percent': {\n",
        "            k: np.round((v/breakdown['powerConsumptionTotal']) * 100)\n",
        "            for k, v\n",
        "            in breakdown['powerConsumptionBreakdown'].items()\n",
        "        },\n",
        "    }\n",
        "\n",
        "    return intensity, breakdown_abridged"
      ]
    },
    {
      "cell_type": "code",
      "execution_count": null,
      "id": "48572539",
      "metadata": {
        "id": "48572539"
      },
      "outputs": [],
      "source": []
    },
    {
      "cell_type": "code",
      "execution_count": null,
      "id": "37031537",
      "metadata": {
        "height": 81,
        "id": "37031537"
      },
      "outputs": [],
      "source": [
        "# Coordinates from London Liverpool Street Station, entered by the student Arif Cem Gundogan\n",
        "intensity, breakdown = power_stats(\n",
        "    lat=51.5188583894350968,\n",
        "    lon=-0.08145885941370525)"
      ]
    }
  ],
  "metadata": {
    "kernelspec": {
      "display_name": "Python 3 (ipykernel)",
      "language": "python",
      "name": "python3"
    },
    "language_info": {
      "codemirror_mode": {
        "name": "ipython",
        "version": 3
      },
      "file_extension": ".py",
      "mimetype": "text/x-python",
      "name": "python",
      "nbconvert_exporter": "python",
      "pygments_lexer": "ipython3",
      "version": "3.10.14"
    },
    "colab": {
      "provenance": [],
      "include_colab_link": true
    }
  },
  "nbformat": 4,
  "nbformat_minor": 5
}